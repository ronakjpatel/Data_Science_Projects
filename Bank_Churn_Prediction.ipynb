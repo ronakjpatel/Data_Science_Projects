{
 "cells": [
  {
   "cell_type": "code",
   "execution_count": 1,
   "metadata": {},
   "outputs": [],
   "source": [
    "import tensorflow as tf\n",
    "from tensorflow import keras\n",
    "import pandas as pd\n",
    "from matplotlib import pyplot as plt\n",
    "import numpy as np \n",
    "\n"
   ]
  },
  {
   "cell_type": "code",
   "execution_count": 2,
   "metadata": {},
   "outputs": [],
   "source": [
    "data = pd.read_csv('/Users/ronakpatel/Data_Science_Work/Churn_Modelling.csv')"
   ]
  },
  {
   "cell_type": "code",
   "execution_count": 3,
   "metadata": {},
   "outputs": [
    {
     "data": {
      "text/html": [
       "<div>\n",
       "<style scoped>\n",
       "    .dataframe tbody tr th:only-of-type {\n",
       "        vertical-align: middle;\n",
       "    }\n",
       "\n",
       "    .dataframe tbody tr th {\n",
       "        vertical-align: top;\n",
       "    }\n",
       "\n",
       "    .dataframe thead th {\n",
       "        text-align: right;\n",
       "    }\n",
       "</style>\n",
       "<table border=\"1\" class=\"dataframe\">\n",
       "  <thead>\n",
       "    <tr style=\"text-align: right;\">\n",
       "      <th></th>\n",
       "      <th>RowNumber</th>\n",
       "      <th>CustomerId</th>\n",
       "      <th>Surname</th>\n",
       "      <th>CreditScore</th>\n",
       "      <th>Geography</th>\n",
       "      <th>Gender</th>\n",
       "      <th>Age</th>\n",
       "      <th>Tenure</th>\n",
       "      <th>Balance</th>\n",
       "      <th>NumOfProducts</th>\n",
       "      <th>HasCrCard</th>\n",
       "      <th>IsActiveMember</th>\n",
       "      <th>EstimatedSalary</th>\n",
       "      <th>Exited</th>\n",
       "    </tr>\n",
       "  </thead>\n",
       "  <tbody>\n",
       "    <tr>\n",
       "      <th>0</th>\n",
       "      <td>1</td>\n",
       "      <td>15634602</td>\n",
       "      <td>Hargrave</td>\n",
       "      <td>619</td>\n",
       "      <td>France</td>\n",
       "      <td>Female</td>\n",
       "      <td>42</td>\n",
       "      <td>2</td>\n",
       "      <td>0.00</td>\n",
       "      <td>1</td>\n",
       "      <td>1</td>\n",
       "      <td>1</td>\n",
       "      <td>101348.88</td>\n",
       "      <td>1</td>\n",
       "    </tr>\n",
       "    <tr>\n",
       "      <th>1</th>\n",
       "      <td>2</td>\n",
       "      <td>15647311</td>\n",
       "      <td>Hill</td>\n",
       "      <td>608</td>\n",
       "      <td>Spain</td>\n",
       "      <td>Female</td>\n",
       "      <td>41</td>\n",
       "      <td>1</td>\n",
       "      <td>83807.86</td>\n",
       "      <td>1</td>\n",
       "      <td>0</td>\n",
       "      <td>1</td>\n",
       "      <td>112542.58</td>\n",
       "      <td>0</td>\n",
       "    </tr>\n",
       "    <tr>\n",
       "      <th>2</th>\n",
       "      <td>3</td>\n",
       "      <td>15619304</td>\n",
       "      <td>Onio</td>\n",
       "      <td>502</td>\n",
       "      <td>France</td>\n",
       "      <td>Female</td>\n",
       "      <td>42</td>\n",
       "      <td>8</td>\n",
       "      <td>159660.80</td>\n",
       "      <td>3</td>\n",
       "      <td>1</td>\n",
       "      <td>0</td>\n",
       "      <td>113931.57</td>\n",
       "      <td>1</td>\n",
       "    </tr>\n",
       "    <tr>\n",
       "      <th>3</th>\n",
       "      <td>4</td>\n",
       "      <td>15701354</td>\n",
       "      <td>Boni</td>\n",
       "      <td>699</td>\n",
       "      <td>France</td>\n",
       "      <td>Female</td>\n",
       "      <td>39</td>\n",
       "      <td>1</td>\n",
       "      <td>0.00</td>\n",
       "      <td>2</td>\n",
       "      <td>0</td>\n",
       "      <td>0</td>\n",
       "      <td>93826.63</td>\n",
       "      <td>0</td>\n",
       "    </tr>\n",
       "    <tr>\n",
       "      <th>4</th>\n",
       "      <td>5</td>\n",
       "      <td>15737888</td>\n",
       "      <td>Mitchell</td>\n",
       "      <td>850</td>\n",
       "      <td>Spain</td>\n",
       "      <td>Female</td>\n",
       "      <td>43</td>\n",
       "      <td>2</td>\n",
       "      <td>125510.82</td>\n",
       "      <td>1</td>\n",
       "      <td>1</td>\n",
       "      <td>1</td>\n",
       "      <td>79084.10</td>\n",
       "      <td>0</td>\n",
       "    </tr>\n",
       "  </tbody>\n",
       "</table>\n",
       "</div>"
      ],
      "text/plain": [
       "   RowNumber  CustomerId   Surname  ...  IsActiveMember EstimatedSalary Exited\n",
       "0          1    15634602  Hargrave  ...               1       101348.88      1\n",
       "1          2    15647311      Hill  ...               1       112542.58      0\n",
       "2          3    15619304      Onio  ...               0       113931.57      1\n",
       "3          4    15701354      Boni  ...               0        93826.63      0\n",
       "4          5    15737888  Mitchell  ...               1        79084.10      0\n",
       "\n",
       "[5 rows x 14 columns]"
      ]
     },
     "execution_count": 3,
     "metadata": {},
     "output_type": "execute_result"
    }
   ],
   "source": [
    "data.head()"
   ]
  },
  {
   "cell_type": "code",
   "execution_count": 11,
   "metadata": {},
   "outputs": [],
   "source": [
    "#we should get rid of RowNumber, CustomerID,Surname\n",
    "\n",
    "df = data.drop(['RowNumber','CustomerId','Surname'],axis='columns')"
   ]
  },
  {
   "cell_type": "code",
   "execution_count": 18,
   "metadata": {},
   "outputs": [
    {
     "data": {
      "text/html": [
       "<div>\n",
       "<style scoped>\n",
       "    .dataframe tbody tr th:only-of-type {\n",
       "        vertical-align: middle;\n",
       "    }\n",
       "\n",
       "    .dataframe tbody tr th {\n",
       "        vertical-align: top;\n",
       "    }\n",
       "\n",
       "    .dataframe thead th {\n",
       "        text-align: right;\n",
       "    }\n",
       "</style>\n",
       "<table border=\"1\" class=\"dataframe\">\n",
       "  <thead>\n",
       "    <tr style=\"text-align: right;\">\n",
       "      <th></th>\n",
       "      <th>CreditScore</th>\n",
       "      <th>Geography</th>\n",
       "      <th>Gender</th>\n",
       "      <th>Age</th>\n",
       "      <th>Tenure</th>\n",
       "      <th>Balance</th>\n",
       "      <th>NumOfProducts</th>\n",
       "      <th>HasCrCard</th>\n",
       "      <th>IsActiveMember</th>\n",
       "      <th>EstimatedSalary</th>\n",
       "      <th>Exited</th>\n",
       "    </tr>\n",
       "  </thead>\n",
       "  <tbody>\n",
       "    <tr>\n",
       "      <th>0</th>\n",
       "      <td>619</td>\n",
       "      <td>France</td>\n",
       "      <td>Female</td>\n",
       "      <td>42</td>\n",
       "      <td>2</td>\n",
       "      <td>0.00</td>\n",
       "      <td>1</td>\n",
       "      <td>1</td>\n",
       "      <td>1</td>\n",
       "      <td>101348.88</td>\n",
       "      <td>1</td>\n",
       "    </tr>\n",
       "    <tr>\n",
       "      <th>1</th>\n",
       "      <td>608</td>\n",
       "      <td>Spain</td>\n",
       "      <td>Female</td>\n",
       "      <td>41</td>\n",
       "      <td>1</td>\n",
       "      <td>83807.86</td>\n",
       "      <td>1</td>\n",
       "      <td>0</td>\n",
       "      <td>1</td>\n",
       "      <td>112542.58</td>\n",
       "      <td>0</td>\n",
       "    </tr>\n",
       "    <tr>\n",
       "      <th>2</th>\n",
       "      <td>502</td>\n",
       "      <td>France</td>\n",
       "      <td>Female</td>\n",
       "      <td>42</td>\n",
       "      <td>8</td>\n",
       "      <td>159660.80</td>\n",
       "      <td>3</td>\n",
       "      <td>1</td>\n",
       "      <td>0</td>\n",
       "      <td>113931.57</td>\n",
       "      <td>1</td>\n",
       "    </tr>\n",
       "    <tr>\n",
       "      <th>3</th>\n",
       "      <td>699</td>\n",
       "      <td>France</td>\n",
       "      <td>Female</td>\n",
       "      <td>39</td>\n",
       "      <td>1</td>\n",
       "      <td>0.00</td>\n",
       "      <td>2</td>\n",
       "      <td>0</td>\n",
       "      <td>0</td>\n",
       "      <td>93826.63</td>\n",
       "      <td>0</td>\n",
       "    </tr>\n",
       "    <tr>\n",
       "      <th>4</th>\n",
       "      <td>850</td>\n",
       "      <td>Spain</td>\n",
       "      <td>Female</td>\n",
       "      <td>43</td>\n",
       "      <td>2</td>\n",
       "      <td>125510.82</td>\n",
       "      <td>1</td>\n",
       "      <td>1</td>\n",
       "      <td>1</td>\n",
       "      <td>79084.10</td>\n",
       "      <td>0</td>\n",
       "    </tr>\n",
       "    <tr>\n",
       "      <th>...</th>\n",
       "      <td>...</td>\n",
       "      <td>...</td>\n",
       "      <td>...</td>\n",
       "      <td>...</td>\n",
       "      <td>...</td>\n",
       "      <td>...</td>\n",
       "      <td>...</td>\n",
       "      <td>...</td>\n",
       "      <td>...</td>\n",
       "      <td>...</td>\n",
       "      <td>...</td>\n",
       "    </tr>\n",
       "    <tr>\n",
       "      <th>9995</th>\n",
       "      <td>771</td>\n",
       "      <td>France</td>\n",
       "      <td>Male</td>\n",
       "      <td>39</td>\n",
       "      <td>5</td>\n",
       "      <td>0.00</td>\n",
       "      <td>2</td>\n",
       "      <td>1</td>\n",
       "      <td>0</td>\n",
       "      <td>96270.64</td>\n",
       "      <td>0</td>\n",
       "    </tr>\n",
       "    <tr>\n",
       "      <th>9996</th>\n",
       "      <td>516</td>\n",
       "      <td>France</td>\n",
       "      <td>Male</td>\n",
       "      <td>35</td>\n",
       "      <td>10</td>\n",
       "      <td>57369.61</td>\n",
       "      <td>1</td>\n",
       "      <td>1</td>\n",
       "      <td>1</td>\n",
       "      <td>101699.77</td>\n",
       "      <td>0</td>\n",
       "    </tr>\n",
       "    <tr>\n",
       "      <th>9997</th>\n",
       "      <td>709</td>\n",
       "      <td>France</td>\n",
       "      <td>Female</td>\n",
       "      <td>36</td>\n",
       "      <td>7</td>\n",
       "      <td>0.00</td>\n",
       "      <td>1</td>\n",
       "      <td>0</td>\n",
       "      <td>1</td>\n",
       "      <td>42085.58</td>\n",
       "      <td>1</td>\n",
       "    </tr>\n",
       "    <tr>\n",
       "      <th>9998</th>\n",
       "      <td>772</td>\n",
       "      <td>Germany</td>\n",
       "      <td>Male</td>\n",
       "      <td>42</td>\n",
       "      <td>3</td>\n",
       "      <td>75075.31</td>\n",
       "      <td>2</td>\n",
       "      <td>1</td>\n",
       "      <td>0</td>\n",
       "      <td>92888.52</td>\n",
       "      <td>1</td>\n",
       "    </tr>\n",
       "    <tr>\n",
       "      <th>9999</th>\n",
       "      <td>792</td>\n",
       "      <td>France</td>\n",
       "      <td>Female</td>\n",
       "      <td>28</td>\n",
       "      <td>4</td>\n",
       "      <td>130142.79</td>\n",
       "      <td>1</td>\n",
       "      <td>1</td>\n",
       "      <td>0</td>\n",
       "      <td>38190.78</td>\n",
       "      <td>0</td>\n",
       "    </tr>\n",
       "  </tbody>\n",
       "</table>\n",
       "<p>10000 rows × 11 columns</p>\n",
       "</div>"
      ],
      "text/plain": [
       "      CreditScore Geography  Gender  ...  IsActiveMember  EstimatedSalary  Exited\n",
       "0             619    France  Female  ...               1        101348.88       1\n",
       "1             608     Spain  Female  ...               1        112542.58       0\n",
       "2             502    France  Female  ...               0        113931.57       1\n",
       "3             699    France  Female  ...               0         93826.63       0\n",
       "4             850     Spain  Female  ...               1         79084.10       0\n",
       "...           ...       ...     ...  ...             ...              ...     ...\n",
       "9995          771    France    Male  ...               0         96270.64       0\n",
       "9996          516    France    Male  ...               1        101699.77       0\n",
       "9997          709    France  Female  ...               1         42085.58       1\n",
       "9998          772   Germany    Male  ...               0         92888.52       1\n",
       "9999          792    France  Female  ...               0         38190.78       0\n",
       "\n",
       "[10000 rows x 11 columns]"
      ]
     },
     "execution_count": 18,
     "metadata": {},
     "output_type": "execute_result"
    }
   ],
   "source": [
    "df"
   ]
  },
  {
   "cell_type": "code",
   "execution_count": 27,
   "metadata": {},
   "outputs": [
    {
     "name": "stdout",
     "output_type": "stream",
     "text": [
      "Name of the Col:CreditScore, No of Missing Values: 0 \n",
      "\n",
      "Name of the Col:Geography, No of Missing Values: 0 \n",
      "\n",
      "Name of the Col:Gender, No of Missing Values: 0 \n",
      "\n",
      "Name of the Col:Age, No of Missing Values: 0 \n",
      "\n",
      "Name of the Col:Tenure, No of Missing Values: 0 \n",
      "\n",
      "Name of the Col:Balance, No of Missing Values: 0 \n",
      "\n",
      "Name of the Col:NumOfProducts, No of Missing Values: 0 \n",
      "\n",
      "Name of the Col:HasCrCard, No of Missing Values: 0 \n",
      "\n",
      "Name of the Col:IsActiveMember, No of Missing Values: 0 \n",
      "\n",
      "Name of the Col:EstimatedSalary, No of Missing Values: 0 \n",
      "\n",
      "Name of the Col:Exited, No of Missing Values: 0 \n",
      "\n"
     ]
    }
   ],
   "source": [
    "#checking for any missing values\n",
    "\n",
    "col_names = ['CreditScore','Geography','Gender','Age','Tenure','Balance','NumOfProducts','HasCrCard','IsActiveMember','EstimatedSalary','Exited']\n",
    "\n",
    "for name in col_names:\n",
    "    print(f'Name of the Col:{name}, No of Missing Values: {df[name].isnull().sum()} \\n')\n",
    "    \n",
    "    \n"
   ]
  },
  {
   "cell_type": "code",
   "execution_count": 37,
   "metadata": {},
   "outputs": [
    {
     "data": {
      "text/plain": [
       "(array([ 89., 137., 231., 354., 482., 675., 822., 889., 930., 955., 855.,\n",
       "        687., 554., 455., 343., 281., 221., 158., 227., 129., 115.,  92.,\n",
       "         55.,  72.,  41.,  45.,  34.,  27.,  21.,   9.,   7.,   2.,   3.,\n",
       "          0.,   1.,   2.]),\n",
       " array([18.        , 20.05555556, 22.11111111, 24.16666667, 26.22222222,\n",
       "        28.27777778, 30.33333333, 32.38888889, 34.44444444, 36.5       ,\n",
       "        38.55555556, 40.61111111, 42.66666667, 44.72222222, 46.77777778,\n",
       "        48.83333333, 50.88888889, 52.94444444, 55.        , 57.05555556,\n",
       "        59.11111111, 61.16666667, 63.22222222, 65.27777778, 67.33333333,\n",
       "        69.38888889, 71.44444444, 73.5       , 75.55555556, 77.61111111,\n",
       "        79.66666667, 81.72222222, 83.77777778, 85.83333333, 87.88888889,\n",
       "        89.94444444, 92.        ]),\n",
       " <BarContainer object of 36 artists>)"
      ]
     },
     "execution_count": 37,
     "metadata": {},
     "output_type": "execute_result"
    },
    {
     "data": {
      "image/png": "[encoded data removed]",
      "text/plain": [
       "<Figure size 432x288 with 1 Axes>"
      ]
     },
     "metadata": {
      "needs_background": "light"
     },
     "output_type": "display_data"
    }
   ],
   "source": [
    "#No Missing Values for any of the columns \n",
    "#Now before we decide to scale the values for the some of the columns we should check\n",
    "# the overall distribution of the values becuse scalling can be very much affected by the\n",
    "# outliers \n",
    "\n",
    "\n",
    "plt.hist(df['Age'], color = 'blue', edgecolor = 'black',\n",
    "         bins = int(180/5))\n",
    "\n"
   ]
  },
  {
   "cell_type": "code",
   "execution_count": 46,
   "metadata": {},
   "outputs": [
    {
     "data": {
      "text/plain": [
       "CreditScore          int64\n",
       "Geography           object\n",
       "Gender              object\n",
       "Age                  int64\n",
       "Tenure               int64\n",
       "Balance            float64\n",
       "NumOfProducts        int64\n",
       "HasCrCard            int64\n",
       "IsActiveMember       int64\n",
       "EstimatedSalary    float64\n",
       "Exited               int64\n",
       "dtype: object"
      ]
     },
     "execution_count": 46,
     "metadata": {},
     "output_type": "execute_result"
    }
   ],
   "source": [
    "df.dtypes"
   ]
  },
  {
   "cell_type": "code",
   "execution_count": 60,
   "metadata": {},
   "outputs": [],
   "source": [
    "#rounding up the values of the floating point columns and chaning thier type to int64\n",
    "float_cols_names = ['Balance','EstimatedSalary']\n",
    "\n",
    "for a in float_cols_names:\n",
    "    df[a] = df[a].round()\n",
    "    df[a] = df[a].astype('int64')\n",
    "    \n",
    "    "
   ]
  },
  {
   "cell_type": "code",
   "execution_count": 61,
   "metadata": {},
   "outputs": [
    {
     "data": {
      "text/plain": [
       "CreditScore         int64\n",
       "Geography          object\n",
       "Gender             object\n",
       "Age                 int64\n",
       "Tenure              int64\n",
       "Balance             int64\n",
       "NumOfProducts       int64\n",
       "HasCrCard           int64\n",
       "IsActiveMember      int64\n",
       "EstimatedSalary     int64\n",
       "Exited              int64\n",
       "dtype: object"
      ]
     },
     "execution_count": 61,
     "metadata": {},
     "output_type": "execute_result"
    }
   ],
   "source": [
    "df.dtypes"
   ]
  },
  {
   "cell_type": "code",
   "execution_count": 75,
   "metadata": {},
   "outputs": [
    {
     "name": "stdout",
     "output_type": "stream",
     "text": [
      "1    7055\n",
      "0    2945\n",
      "Name: HasCrCard, dtype: int64\n",
      "1    5151\n",
      "0    4849\n",
      "Name: IsActiveMember, dtype: int64\n",
      "0    7963\n",
      "1    2037\n",
      "Name: Exited, dtype: int64\n"
     ]
    }
   ],
   "source": [
    "#checking the values abnormality (values other than 1 and 0)\n",
    "\n",
    "print(df['HasCrCard'].value_counts())\n",
    "print(df['IsActiveMember'].value_counts())\n",
    "print(df['Exited'].value_counts())\n",
    "\n"
   ]
  },
  {
   "cell_type": "code",
   "execution_count": 59,
   "metadata": {},
   "outputs": [
    {
     "data": {
      "text/plain": [
       "dtype('float64')"
      ]
     },
     "execution_count": 59,
     "metadata": {},
     "output_type": "execute_result"
    }
   ],
   "source": [
    "df['Balance'].dtype"
   ]
  },
  {
   "cell_type": "code",
   "execution_count": 36,
   "metadata": {},
   "outputs": [
    {
     "data": {
      "text/plain": [
       "(array([  9.,   5.,   3.,   6.,  31.,  53.,  70.,  77.,  97., 139., 186.,\n",
       "        233., 275., 297., 343., 342., 430., 438., 498., 498., 558., 568.,\n",
       "        537., 566., 512., 528., 404., 391., 359., 315., 282., 230., 175.,\n",
       "        127., 103., 315.]),\n",
       " array([350.        , 363.88888889, 377.77777778, 391.66666667,\n",
       "        405.55555556, 419.44444444, 433.33333333, 447.22222222,\n",
       "        461.11111111, 475.        , 488.88888889, 502.77777778,\n",
       "        516.66666667, 530.55555556, 544.44444444, 558.33333333,\n",
       "        572.22222222, 586.11111111, 600.        , 613.88888889,\n",
       "        627.77777778, 641.66666667, 655.55555556, 669.44444444,\n",
       "        683.33333333, 697.22222222, 711.11111111, 725.        ,\n",
       "        738.88888889, 752.77777778, 766.66666667, 780.55555556,\n",
       "        794.44444444, 808.33333333, 822.22222222, 836.11111111,\n",
       "        850.        ]),\n",
       " <BarContainer object of 36 artists>)"
      ]
     },
     "execution_count": 36,
     "metadata": {},
     "output_type": "execute_result"
    },
    {
     "data": {
      "image/png": "[encoded data removed]",
      "text/plain": [
       "<Figure size 432x288 with 1 Axes>"
      ]
     },
     "metadata": {
      "needs_background": "light"
     },
     "output_type": "display_data"
    }
   ],
   "source": [
    "plt.hist(df['CreditScore'], color = 'blue', edgecolor = 'black',\n",
    "         bins = int(180/5))\n",
    "\n"
   ]
  },
  {
   "cell_type": "code",
   "execution_count": 39,
   "metadata": {},
   "outputs": [
    {
     "data": {
      "text/plain": [
       "(array([ 413.,    0.,    0., 1035.,    0.,    0.,    0., 1048.,    0.,\n",
       "           0., 1009.,    0.,    0.,    0.,  989.,    0.,    0.,    0.,\n",
       "        1012.,    0.,    0.,  967.,    0.,    0.,    0., 1028.,    0.,\n",
       "           0., 1025.,    0.,    0.,    0.,  984.,    0.,    0.,  490.]),\n",
       " array([ 0.        ,  0.27777778,  0.55555556,  0.83333333,  1.11111111,\n",
       "         1.38888889,  1.66666667,  1.94444444,  2.22222222,  2.5       ,\n",
       "         2.77777778,  3.05555556,  3.33333333,  3.61111111,  3.88888889,\n",
       "         4.16666667,  4.44444444,  4.72222222,  5.        ,  5.27777778,\n",
       "         5.55555556,  5.83333333,  6.11111111,  6.38888889,  6.66666667,\n",
       "         6.94444444,  7.22222222,  7.5       ,  7.77777778,  8.05555556,\n",
       "         8.33333333,  8.61111111,  8.88888889,  9.16666667,  9.44444444,\n",
       "         9.72222222, 10.        ]),\n",
       " <BarContainer object of 36 artists>)"
      ]
     },
     "execution_count": 39,
     "metadata": {},
     "output_type": "execute_result"
    },
    {
     "data": {
      "image/png": "[encoded data removed]",
      "text/plain": [
       "<Figure size 432x288 with 1 Axes>"
      ]
     },
     "metadata": {
      "needs_background": "light"
     },
     "output_type": "display_data"
    }
   ],
   "source": [
    "plt.hist(df['Tenure'], color = 'blue', edgecolor = 'black',\n",
    "         bins = int(180/5))"
   ]
  },
  {
   "cell_type": "code",
   "execution_count": 44,
   "metadata": {},
   "outputs": [
    {
     "data": {
      "text/plain": [
       "{'whiskers': [<matplotlib.lines.Line2D at 0x17e5229d0>,\n",
       "  <matplotlib.lines.Line2D at 0x17e522e10>],\n",
       " 'caps': [<matplotlib.lines.Line2D at 0x17e526290>,\n",
       "  <matplotlib.lines.Line2D at 0x17e5266d0>],\n",
       " 'boxes': [<matplotlib.lines.Line2D at 0x17e522650>],\n",
       " 'medians': [<matplotlib.lines.Line2D at 0x17e526b50>],\n",
       " 'fliers': [<matplotlib.lines.Line2D at 0x17e526f90>],\n",
       " 'means': []}"
      ]
     },
     "execution_count": 44,
     "metadata": {},
     "output_type": "execute_result"
    },
    {
     "data": {
      "image/png": "[encoded data removed]",
      "text/plain": [
       "<Figure size 432x288 with 1 Axes>"
      ]
     },
     "metadata": {
      "needs_background": "light"
     },
     "output_type": "display_data"
    }
   ],
   "source": [
    "plt.boxplot(df['Age'])\n"
   ]
  },
  {
   "cell_type": "code",
   "execution_count": 43,
   "metadata": {},
   "outputs": [
    {
     "data": {
      "text/plain": [
       "{'whiskers': [<matplotlib.lines.Line2D at 0x17e4e8a90>,\n",
       "  <matplotlib.lines.Line2D at 0x17e4e8ed0>],\n",
       " 'caps': [<matplotlib.lines.Line2D at 0x17e4ec350>,\n",
       "  <matplotlib.lines.Line2D at 0x17e4ec790>],\n",
       " 'boxes': [<matplotlib.lines.Line2D at 0x17e4e8710>],\n",
       " 'medians': [<matplotlib.lines.Line2D at 0x17e4ecc10>],\n",
       " 'fliers': [<matplotlib.lines.Line2D at 0x17e4f3090>],\n",
       " 'means': []}"
      ]
     },
     "execution_count": 43,
     "metadata": {},
     "output_type": "execute_result"
    },
    {
     "data": {
      "image/png": "[encoded data removed]",
      "text/plain": [
       "<Figure size 432x288 with 1 Axes>"
      ]
     },
     "metadata": {
      "needs_background": "light"
     },
     "output_type": "display_data"
    }
   ],
   "source": [
    "plt.boxplot(df['CreditScore'])"
   ]
  },
  {
   "cell_type": "code",
   "execution_count": 70,
   "metadata": {},
   "outputs": [
    {
     "data": {
      "text/plain": [
       "{'whiskers': [<matplotlib.lines.Line2D at 0x17a79af50>,\n",
       "  <matplotlib.lines.Line2D at 0x17dbdf0d0>],\n",
       " 'caps': [<matplotlib.lines.Line2D at 0x17dbdf1d0>,\n",
       "  <matplotlib.lines.Line2D at 0x17b108fd0>],\n",
       " 'boxes': [<matplotlib.lines.Line2D at 0x17d4e9d50>],\n",
       " 'medians': [<matplotlib.lines.Line2D at 0x17b1083d0>],\n",
       " 'fliers': [<matplotlib.lines.Line2D at 0x17b108150>],\n",
       " 'means': []}"
      ]
     },
     "execution_count": 70,
     "metadata": {},
     "output_type": "execute_result"
    },
    {
     "data": {
      "image/png": "[encoded data removed]",
      "text/plain": [
       "<Figure size 432x288 with 1 Axes>"
      ]
     },
     "metadata": {
      "needs_background": "light"
     },
     "output_type": "display_data"
    }
   ],
   "source": [
    "plt.boxplot(df['Balance'])"
   ]
  },
  {
   "cell_type": "code",
   "execution_count": 71,
   "metadata": {},
   "outputs": [
    {
     "data": {
      "text/plain": [
       "CreditScore         int64\n",
       "Geography          object\n",
       "Gender             object\n",
       "Age                 int64\n",
       "Tenure              int64\n",
       "Balance             int64\n",
       "NumOfProducts       int64\n",
       "HasCrCard           int64\n",
       "IsActiveMember      int64\n",
       "EstimatedSalary     int64\n",
       "Exited              int64\n",
       "dtype: object"
      ]
     },
     "execution_count": 71,
     "metadata": {},
     "output_type": "execute_result"
    }
   ],
   "source": [
    "df.dtypes"
   ]
  },
  {
   "cell_type": "code",
   "execution_count": 76,
   "metadata": {},
   "outputs": [],
   "source": [
    "numeric_cols = ['CreditScore','Age','Tenure','Balance','EstimatedSalary']"
   ]
  },
  {
   "cell_type": "code",
   "execution_count": 78,
   "metadata": {},
   "outputs": [],
   "source": [
    "#minmax scalling \n",
    "\n",
    "\n",
    "from sklearn.preprocessing import MinMaxScaler\n",
    "scaler = MinMaxScaler()\n",
    "df[numeric_cols] = scaler.fit_transform(df[numeric_cols])\n"
   ]
  },
  {
   "cell_type": "code",
   "execution_count": 79,
   "metadata": {},
   "outputs": [
    {
     "data": {
      "text/html": [
       "<div>\n",
       "<style scoped>\n",
       "    .dataframe tbody tr th:only-of-type {\n",
       "        vertical-align: middle;\n",
       "    }\n",
       "\n",
       "    .dataframe tbody tr th {\n",
       "        vertical-align: top;\n",
       "    }\n",
       "\n",
       "    .dataframe thead th {\n",
       "        text-align: right;\n",
       "    }\n",
       "</style>\n",
       "<table border=\"1\" class=\"dataframe\">\n",
       "  <thead>\n",
       "    <tr style=\"text-align: right;\">\n",
       "      <th></th>\n",
       "      <th>CreditScore</th>\n",
       "      <th>Geography</th>\n",
       "      <th>Gender</th>\n",
       "      <th>Age</th>\n",
       "      <th>Tenure</th>\n",
       "      <th>Balance</th>\n",
       "      <th>NumOfProducts</th>\n",
       "      <th>HasCrCard</th>\n",
       "      <th>IsActiveMember</th>\n",
       "      <th>EstimatedSalary</th>\n",
       "      <th>Exited</th>\n",
       "    </tr>\n",
       "  </thead>\n",
       "  <tbody>\n",
       "    <tr>\n",
       "      <th>0</th>\n",
       "      <td>0.538</td>\n",
       "      <td>France</td>\n",
       "      <td>Female</td>\n",
       "      <td>0.324324</td>\n",
       "      <td>0.2</td>\n",
       "      <td>0.000000</td>\n",
       "      <td>1</td>\n",
       "      <td>1</td>\n",
       "      <td>1</td>\n",
       "      <td>0.506736</td>\n",
       "      <td>1</td>\n",
       "    </tr>\n",
       "    <tr>\n",
       "      <th>1</th>\n",
       "      <td>0.516</td>\n",
       "      <td>Spain</td>\n",
       "      <td>Female</td>\n",
       "      <td>0.310811</td>\n",
       "      <td>0.1</td>\n",
       "      <td>0.334032</td>\n",
       "      <td>1</td>\n",
       "      <td>0</td>\n",
       "      <td>1</td>\n",
       "      <td>0.562711</td>\n",
       "      <td>0</td>\n",
       "    </tr>\n",
       "    <tr>\n",
       "      <th>2</th>\n",
       "      <td>0.304</td>\n",
       "      <td>France</td>\n",
       "      <td>Female</td>\n",
       "      <td>0.324324</td>\n",
       "      <td>0.8</td>\n",
       "      <td>0.636358</td>\n",
       "      <td>3</td>\n",
       "      <td>1</td>\n",
       "      <td>0</td>\n",
       "      <td>0.569657</td>\n",
       "      <td>1</td>\n",
       "    </tr>\n",
       "    <tr>\n",
       "      <th>3</th>\n",
       "      <td>0.698</td>\n",
       "      <td>France</td>\n",
       "      <td>Female</td>\n",
       "      <td>0.283784</td>\n",
       "      <td>0.1</td>\n",
       "      <td>0.000000</td>\n",
       "      <td>2</td>\n",
       "      <td>0</td>\n",
       "      <td>0</td>\n",
       "      <td>0.469122</td>\n",
       "      <td>0</td>\n",
       "    </tr>\n",
       "    <tr>\n",
       "      <th>4</th>\n",
       "      <td>1.000</td>\n",
       "      <td>Spain</td>\n",
       "      <td>Female</td>\n",
       "      <td>0.337838</td>\n",
       "      <td>0.2</td>\n",
       "      <td>0.500247</td>\n",
       "      <td>1</td>\n",
       "      <td>1</td>\n",
       "      <td>1</td>\n",
       "      <td>0.395400</td>\n",
       "      <td>0</td>\n",
       "    </tr>\n",
       "    <tr>\n",
       "      <th>...</th>\n",
       "      <td>...</td>\n",
       "      <td>...</td>\n",
       "      <td>...</td>\n",
       "      <td>...</td>\n",
       "      <td>...</td>\n",
       "      <td>...</td>\n",
       "      <td>...</td>\n",
       "      <td>...</td>\n",
       "      <td>...</td>\n",
       "      <td>...</td>\n",
       "      <td>...</td>\n",
       "    </tr>\n",
       "    <tr>\n",
       "      <th>9995</th>\n",
       "      <td>0.842</td>\n",
       "      <td>France</td>\n",
       "      <td>Male</td>\n",
       "      <td>0.283784</td>\n",
       "      <td>0.5</td>\n",
       "      <td>0.000000</td>\n",
       "      <td>2</td>\n",
       "      <td>1</td>\n",
       "      <td>0</td>\n",
       "      <td>0.481343</td>\n",
       "      <td>0</td>\n",
       "    </tr>\n",
       "    <tr>\n",
       "      <th>9996</th>\n",
       "      <td>0.332</td>\n",
       "      <td>France</td>\n",
       "      <td>Male</td>\n",
       "      <td>0.229730</td>\n",
       "      <td>1.0</td>\n",
       "      <td>0.228659</td>\n",
       "      <td>1</td>\n",
       "      <td>1</td>\n",
       "      <td>1</td>\n",
       "      <td>0.508491</td>\n",
       "      <td>0</td>\n",
       "    </tr>\n",
       "    <tr>\n",
       "      <th>9997</th>\n",
       "      <td>0.718</td>\n",
       "      <td>France</td>\n",
       "      <td>Female</td>\n",
       "      <td>0.243243</td>\n",
       "      <td>0.7</td>\n",
       "      <td>0.000000</td>\n",
       "      <td>1</td>\n",
       "      <td>0</td>\n",
       "      <td>1</td>\n",
       "      <td>0.210391</td>\n",
       "      <td>1</td>\n",
       "    </tr>\n",
       "    <tr>\n",
       "      <th>9998</th>\n",
       "      <td>0.844</td>\n",
       "      <td>Germany</td>\n",
       "      <td>Male</td>\n",
       "      <td>0.324324</td>\n",
       "      <td>0.3</td>\n",
       "      <td>0.299225</td>\n",
       "      <td>2</td>\n",
       "      <td>1</td>\n",
       "      <td>0</td>\n",
       "      <td>0.464431</td>\n",
       "      <td>1</td>\n",
       "    </tr>\n",
       "    <tr>\n",
       "      <th>9999</th>\n",
       "      <td>0.884</td>\n",
       "      <td>France</td>\n",
       "      <td>Female</td>\n",
       "      <td>0.135135</td>\n",
       "      <td>0.4</td>\n",
       "      <td>0.518709</td>\n",
       "      <td>1</td>\n",
       "      <td>1</td>\n",
       "      <td>0</td>\n",
       "      <td>0.190914</td>\n",
       "      <td>0</td>\n",
       "    </tr>\n",
       "  </tbody>\n",
       "</table>\n",
       "<p>10000 rows × 11 columns</p>\n",
       "</div>"
      ],
      "text/plain": [
       "      CreditScore Geography  Gender  ...  IsActiveMember  EstimatedSalary  Exited\n",
       "0           0.538    France  Female  ...               1         0.506736       1\n",
       "1           0.516     Spain  Female  ...               1         0.562711       0\n",
       "2           0.304    France  Female  ...               0         0.569657       1\n",
       "3           0.698    France  Female  ...               0         0.469122       0\n",
       "4           1.000     Spain  Female  ...               1         0.395400       0\n",
       "...           ...       ...     ...  ...             ...              ...     ...\n",
       "9995        0.842    France    Male  ...               0         0.481343       0\n",
       "9996        0.332    France    Male  ...               1         0.508491       0\n",
       "9997        0.718    France  Female  ...               1         0.210391       1\n",
       "9998        0.844   Germany    Male  ...               0         0.464431       1\n",
       "9999        0.884    France  Female  ...               0         0.190914       0\n",
       "\n",
       "[10000 rows x 11 columns]"
      ]
     },
     "execution_count": 79,
     "metadata": {},
     "output_type": "execute_result"
    }
   ],
   "source": [
    "df"
   ]
  },
  {
   "cell_type": "code",
   "execution_count": 80,
   "metadata": {},
   "outputs": [],
   "source": [
    "#modifying gender column\n",
    "\n",
    "df['Gender'].replace({'Female':1,'Male':0},inplace=True)\n"
   ]
  },
  {
   "cell_type": "code",
   "execution_count": 82,
   "metadata": {},
   "outputs": [
    {
     "data": {
      "text/plain": [
       "0    5457\n",
       "1    4543\n",
       "Name: Gender, dtype: int64"
      ]
     },
     "execution_count": 82,
     "metadata": {},
     "output_type": "execute_result"
    }
   ],
   "source": []
  },
  {
   "cell_type": "code",
   "execution_count": 83,
   "metadata": {},
   "outputs": [],
   "source": [
    "#hot encoding the cols\n",
    "df = pd.get_dummies(data=df, columns=['Geography','NumOfProducts'])"
   ]
  },
  {
   "cell_type": "code",
   "execution_count": 86,
   "metadata": {},
   "outputs": [
    {
     "data": {
      "text/plain": [
       "CreditScore          float64\n",
       "Gender                 int64\n",
       "Age                  float64\n",
       "Tenure               float64\n",
       "Balance              float64\n",
       "HasCrCard              int64\n",
       "IsActiveMember         int64\n",
       "EstimatedSalary      float64\n",
       "Exited                 int64\n",
       "Geography_France       uint8\n",
       "Geography_Germany      uint8\n",
       "Geography_Spain        uint8\n",
       "NumOfProducts_1        uint8\n",
       "NumOfProducts_2        uint8\n",
       "NumOfProducts_3        uint8\n",
       "NumOfProducts_4        uint8\n",
       "dtype: object"
      ]
     },
     "execution_count": 86,
     "metadata": {},
     "output_type": "execute_result"
    }
   ],
   "source": [
    "df.dtypes"
   ]
  },
  {
   "cell_type": "code",
   "execution_count": 87,
   "metadata": {},
   "outputs": [
    {
     "name": "stderr",
     "output_type": "stream",
     "text": [
      "/usr/local/opt/python/Frameworks/Python.framework/Versions/3.7/lib/python3.7/importlib/_bootstrap.py:219: RuntimeWarning: numpy.ufunc size changed, may indicate binary incompatibility. Expected 192 from C header, got 216 from PyObject\n",
      "  return f(*args, **kwds)\n"
     ]
    }
   ],
   "source": [
    "#now seperating the Independent and Dependent Variable\n",
    "\n",
    "x=df.drop('Exited',axis='columns')\n",
    "y=df['Exited']\n",
    "\n",
    "#splitting the data into 80 20 ratio\n",
    "\n",
    "from sklearn.model_selection import train_test_split\n",
    "x_train, x_test, y_train, y_test = train_test_split(x,y,test_size=0.2,random_state=5)"
   ]
  },
  {
   "cell_type": "code",
   "execution_count": 90,
   "metadata": {},
   "outputs": [
    {
     "data": {
      "text/plain": [
       "(8000, 15)"
      ]
     },
     "execution_count": 90,
     "metadata": {},
     "output_type": "execute_result"
    }
   ],
   "source": [
    "#verifying the split\n",
    "x_train.shape"
   ]
  },
  {
   "cell_type": "code",
   "execution_count": 93,
   "metadata": {},
   "outputs": [
    {
     "name": "stdout",
     "output_type": "stream",
     "text": [
      "Epoch 1/100\n",
      "250/250 [==============================] - 0s 657us/step - loss: 0.5168 - accuracy: 0.7754\n",
      "Epoch 2/100\n",
      "250/250 [==============================] - 0s 626us/step - loss: 0.4127 - accuracy: 0.8216\n",
      "Epoch 3/100\n",
      "250/250 [==============================] - 0s 641us/step - loss: 0.3991 - accuracy: 0.8348\n",
      "Epoch 4/100\n",
      "250/250 [==============================] - 0s 639us/step - loss: 0.3718 - accuracy: 0.8441\n",
      "Epoch 5/100\n",
      "250/250 [==============================] - 0s 627us/step - loss: 0.3687 - accuracy: 0.8435\n",
      "Epoch 6/100\n",
      "250/250 [==============================] - 0s 657us/step - loss: 0.3618 - accuracy: 0.8417\n",
      "Epoch 7/100\n",
      "250/250 [==============================] - 0s 658us/step - loss: 0.3536 - accuracy: 0.8476\n",
      "Epoch 8/100\n",
      "250/250 [==============================] - 0s 652us/step - loss: 0.3630 - accuracy: 0.8471\n",
      "Epoch 9/100\n",
      "250/250 [==============================] - 0s 650us/step - loss: 0.3495 - accuracy: 0.8571\n",
      "Epoch 10/100\n",
      "250/250 [==============================] - 0s 637us/step - loss: 0.3725 - accuracy: 0.8438\n",
      "Epoch 11/100\n",
      "250/250 [==============================] - 0s 639us/step - loss: 0.3625 - accuracy: 0.8465\n",
      "Epoch 12/100\n",
      "250/250 [==============================] - 0s 617us/step - loss: 0.3640 - accuracy: 0.8470\n",
      "Epoch 13/100\n",
      "250/250 [==============================] - 0s 654us/step - loss: 0.3631 - accuracy: 0.8473\n",
      "Epoch 14/100\n",
      "250/250 [==============================] - 0s 651us/step - loss: 0.3648 - accuracy: 0.8457\n",
      "Epoch 15/100\n",
      "250/250 [==============================] - 0s 653us/step - loss: 0.3514 - accuracy: 0.8527\n",
      "Epoch 16/100\n",
      "250/250 [==============================] - 0s 648us/step - loss: 0.3512 - accuracy: 0.8529\n",
      "Epoch 17/100\n",
      "250/250 [==============================] - 0s 661us/step - loss: 0.3473 - accuracy: 0.8543\n",
      "Epoch 18/100\n",
      "250/250 [==============================] - 0s 666us/step - loss: 0.3519 - accuracy: 0.8535\n",
      "Epoch 19/100\n",
      "250/250 [==============================] - 0s 664us/step - loss: 0.3571 - accuracy: 0.8482\n",
      "Epoch 20/100\n",
      "250/250 [==============================] - 0s 655us/step - loss: 0.3544 - accuracy: 0.8501\n",
      "Epoch 21/100\n",
      "250/250 [==============================] - 0s 661us/step - loss: 0.3450 - accuracy: 0.8539\n",
      "Epoch 22/100\n",
      "250/250 [==============================] - 0s 657us/step - loss: 0.3552 - accuracy: 0.8522\n",
      "Epoch 23/100\n",
      "250/250 [==============================] - 0s 667us/step - loss: 0.3484 - accuracy: 0.8513\n",
      "Epoch 24/100\n",
      "250/250 [==============================] - 0s 696us/step - loss: 0.3443 - accuracy: 0.8558\n",
      "Epoch 25/100\n",
      "250/250 [==============================] - 0s 665us/step - loss: 0.3483 - accuracy: 0.8523\n",
      "Epoch 26/100\n",
      "250/250 [==============================] - 0s 667us/step - loss: 0.3384 - accuracy: 0.8604\n",
      "Epoch 27/100\n",
      "250/250 [==============================] - 0s 660us/step - loss: 0.3527 - accuracy: 0.8515\n",
      "Epoch 28/100\n",
      "250/250 [==============================] - 0s 674us/step - loss: 0.3481 - accuracy: 0.8580\n",
      "Epoch 29/100\n",
      "250/250 [==============================] - 0s 661us/step - loss: 0.3387 - accuracy: 0.8615\n",
      "Epoch 30/100\n",
      "250/250 [==============================] - 0s 651us/step - loss: 0.3457 - accuracy: 0.8543\n",
      "Epoch 31/100\n",
      "250/250 [==============================] - 0s 661us/step - loss: 0.3343 - accuracy: 0.8638\n",
      "Epoch 32/100\n",
      "250/250 [==============================] - 0s 682us/step - loss: 0.3398 - accuracy: 0.8567\n",
      "Epoch 33/100\n",
      "250/250 [==============================] - 0s 665us/step - loss: 0.3313 - accuracy: 0.8652\n",
      "Epoch 34/100\n",
      "250/250 [==============================] - 0s 669us/step - loss: 0.3403 - accuracy: 0.8578\n",
      "Epoch 35/100\n",
      "250/250 [==============================] - 0s 642us/step - loss: 0.3437 - accuracy: 0.8547\n",
      "Epoch 36/100\n",
      "250/250 [==============================] - 0s 663us/step - loss: 0.3328 - accuracy: 0.8637\n",
      "Epoch 37/100\n",
      "250/250 [==============================] - 0s 650us/step - loss: 0.3357 - accuracy: 0.8598\n",
      "Epoch 38/100\n",
      "250/250 [==============================] - 0s 644us/step - loss: 0.3414 - accuracy: 0.8622\n",
      "Epoch 39/100\n",
      "250/250 [==============================] - 0s 694us/step - loss: 0.3268 - accuracy: 0.8635\n",
      "Epoch 40/100\n",
      "250/250 [==============================] - 0s 623us/step - loss: 0.3336 - accuracy: 0.8649\n",
      "Epoch 41/100\n",
      "250/250 [==============================] - 0s 642us/step - loss: 0.3352 - accuracy: 0.8656\n",
      "Epoch 42/100\n",
      "250/250 [==============================] - 0s 641us/step - loss: 0.3263 - accuracy: 0.8699\n",
      "Epoch 43/100\n",
      "250/250 [==============================] - 0s 626us/step - loss: 0.3344 - accuracy: 0.8642\n",
      "Epoch 44/100\n",
      "250/250 [==============================] - 0s 641us/step - loss: 0.3412 - accuracy: 0.8619\n",
      "Epoch 45/100\n",
      "250/250 [==============================] - 0s 655us/step - loss: 0.3302 - accuracy: 0.8606\n",
      "Epoch 46/100\n",
      "250/250 [==============================] - 0s 652us/step - loss: 0.3446 - accuracy: 0.8522\n",
      "Epoch 47/100\n",
      "250/250 [==============================] - 0s 654us/step - loss: 0.3272 - accuracy: 0.8696\n",
      "Epoch 48/100\n",
      "250/250 [==============================] - 0s 659us/step - loss: 0.3342 - accuracy: 0.8646\n",
      "Epoch 49/100\n",
      "250/250 [==============================] - 0s 637us/step - loss: 0.3277 - accuracy: 0.8677\n",
      "Epoch 50/100\n",
      "250/250 [==============================] - 0s 625us/step - loss: 0.3323 - accuracy: 0.8664\n",
      "Epoch 51/100\n",
      "250/250 [==============================] - 0s 639us/step - loss: 0.3227 - accuracy: 0.8688\n",
      "Epoch 52/100\n",
      "250/250 [==============================] - 0s 645us/step - loss: 0.3398 - accuracy: 0.8611\n",
      "Epoch 53/100\n",
      "250/250 [==============================] - 0s 651us/step - loss: 0.3358 - accuracy: 0.8663\n",
      "Epoch 54/100\n",
      "250/250 [==============================] - 0s 657us/step - loss: 0.3324 - accuracy: 0.8583\n",
      "Epoch 55/100\n",
      "250/250 [==============================] - 0s 637us/step - loss: 0.3239 - accuracy: 0.8690\n",
      "Epoch 56/100\n",
      "250/250 [==============================] - 0s 662us/step - loss: 0.3260 - accuracy: 0.8687\n",
      "Epoch 57/100\n",
      "250/250 [==============================] - 0s 699us/step - loss: 0.3348 - accuracy: 0.8671\n",
      "Epoch 58/100\n",
      "250/250 [==============================] - 0s 652us/step - loss: 0.3328 - accuracy: 0.8638\n",
      "Epoch 59/100\n",
      "250/250 [==============================] - 0s 638us/step - loss: 0.3189 - accuracy: 0.8693\n",
      "Epoch 60/100\n",
      "250/250 [==============================] - 0s 626us/step - loss: 0.3265 - accuracy: 0.8655\n",
      "Epoch 61/100\n",
      "250/250 [==============================] - 0s 619us/step - loss: 0.3311 - accuracy: 0.8623\n",
      "Epoch 62/100\n",
      "250/250 [==============================] - 0s 651us/step - loss: 0.3291 - accuracy: 0.8664\n",
      "Epoch 63/100\n",
      "250/250 [==============================] - 0s 624us/step - loss: 0.3333 - accuracy: 0.8668\n",
      "Epoch 64/100\n",
      "250/250 [==============================] - 0s 634us/step - loss: 0.3179 - accuracy: 0.8713\n",
      "Epoch 65/100\n",
      "250/250 [==============================] - 0s 627us/step - loss: 0.3152 - accuracy: 0.8709\n",
      "Epoch 66/100\n",
      "250/250 [==============================] - 0s 632us/step - loss: 0.3208 - accuracy: 0.8727\n",
      "Epoch 67/100\n",
      "250/250 [==============================] - 0s 643us/step - loss: 0.3323 - accuracy: 0.8621\n",
      "Epoch 68/100\n",
      "250/250 [==============================] - 0s 652us/step - loss: 0.3234 - accuracy: 0.8683\n",
      "Epoch 69/100\n",
      "250/250 [==============================] - 0s 654us/step - loss: 0.3188 - accuracy: 0.8700\n",
      "Epoch 70/100\n",
      "250/250 [==============================] - 0s 640us/step - loss: 0.3354 - accuracy: 0.8584\n",
      "Epoch 71/100\n",
      "250/250 [==============================] - 0s 640us/step - loss: 0.3243 - accuracy: 0.8737\n",
      "Epoch 72/100\n",
      "250/250 [==============================] - 0s 631us/step - loss: 0.3229 - accuracy: 0.8680\n",
      "Epoch 73/100\n",
      "250/250 [==============================] - 0s 639us/step - loss: 0.3354 - accuracy: 0.8644\n",
      "Epoch 74/100\n",
      "250/250 [==============================] - 0s 641us/step - loss: 0.3185 - accuracy: 0.8693\n",
      "Epoch 75/100\n",
      "250/250 [==============================] - 0s 633us/step - loss: 0.3271 - accuracy: 0.8672\n",
      "Epoch 76/100\n",
      "250/250 [==============================] - 0s 637us/step - loss: 0.3247 - accuracy: 0.8657\n",
      "Epoch 77/100\n",
      "250/250 [==============================] - 0s 657us/step - loss: 0.3315 - accuracy: 0.8617\n",
      "Epoch 78/100\n",
      "250/250 [==============================] - 0s 659us/step - loss: 0.3162 - accuracy: 0.8757\n",
      "Epoch 79/100\n",
      "250/250 [==============================] - 0s 652us/step - loss: 0.3269 - accuracy: 0.8633\n",
      "Epoch 80/100\n",
      "250/250 [==============================] - 0s 639us/step - loss: 0.3266 - accuracy: 0.8649\n",
      "Epoch 81/100\n",
      "250/250 [==============================] - 0s 647us/step - loss: 0.3132 - accuracy: 0.8734\n",
      "Epoch 82/100\n",
      "250/250 [==============================] - 0s 680us/step - loss: 0.3184 - accuracy: 0.8663\n",
      "Epoch 83/100\n",
      "250/250 [==============================] - 0s 650us/step - loss: 0.3318 - accuracy: 0.8612\n",
      "Epoch 84/100\n",
      "250/250 [==============================] - 0s 662us/step - loss: 0.3339 - accuracy: 0.8601\n",
      "Epoch 85/100\n",
      "250/250 [==============================] - 0s 639us/step - loss: 0.3161 - accuracy: 0.8698\n",
      "Epoch 86/100\n",
      "250/250 [==============================] - 0s 656us/step - loss: 0.3154 - accuracy: 0.8667\n",
      "Epoch 87/100\n",
      "250/250 [==============================] - 0s 642us/step - loss: 0.3210 - accuracy: 0.8682\n",
      "Epoch 88/100\n",
      "250/250 [==============================] - 0s 640us/step - loss: 0.3338 - accuracy: 0.8612\n",
      "Epoch 89/100\n",
      "250/250 [==============================] - 0s 633us/step - loss: 0.3261 - accuracy: 0.8671\n",
      "Epoch 90/100\n",
      "250/250 [==============================] - 0s 639us/step - loss: 0.3250 - accuracy: 0.8682\n",
      "Epoch 91/100\n",
      "250/250 [==============================] - 0s 637us/step - loss: 0.3179 - accuracy: 0.8705\n",
      "Epoch 92/100\n",
      "250/250 [==============================] - 0s 629us/step - loss: 0.3263 - accuracy: 0.8645\n",
      "Epoch 93/100\n",
      "250/250 [==============================] - 0s 642us/step - loss: 0.3114 - accuracy: 0.8757\n",
      "Epoch 94/100\n",
      "250/250 [==============================] - 0s 619us/step - loss: 0.3245 - accuracy: 0.8659\n",
      "Epoch 95/100\n",
      "250/250 [==============================] - 0s 631us/step - loss: 0.3365 - accuracy: 0.8572\n",
      "Epoch 96/100\n",
      "250/250 [==============================] - 0s 631us/step - loss: 0.3200 - accuracy: 0.8697\n",
      "Epoch 97/100\n",
      "250/250 [==============================] - 0s 637us/step - loss: 0.3138 - accuracy: 0.8759\n",
      "Epoch 98/100\n",
      "250/250 [==============================] - 0s 663us/step - loss: 0.3263 - accuracy: 0.8645\n",
      "Epoch 99/100\n",
      "250/250 [==============================] - 0s 654us/step - loss: 0.3251 - accuracy: 0.8649\n",
      "Epoch 100/100\n",
      "250/250 [==============================] - 0s 635us/step - loss: 0.3207 - accuracy: 0.8644\n"
     ]
    },
    {
     "data": {
      "text/plain": [
       "<tensorflow.python.keras.callbacks.History at 0x180bd5fd0>"
      ]
     },
     "execution_count": 93,
     "metadata": {},
     "output_type": "execute_result"
    }
   ],
   "source": [
    "#building the NN\n",
    "\n",
    "model1 = keras.Sequential([\n",
    "    keras.layers.Dense(15,input_shape=(15,),activation='tanh'),\n",
    "    keras.layers.Dense(10,activation='tanh'),\n",
    "    keras.layers.Dense(1,activation='sigmoid')\n",
    "])\n",
    "\n",
    "model1.compile(optimizer='adam',\n",
    "              loss='binary_crossentropy',\n",
    "              metrics=['accuracy'])\n",
    "\n",
    "\n",
    "model1.fit(x_train,y_train,epochs=100)\n",
    "\n",
    "\n"
   ]
  },
  {
   "cell_type": "code",
   "execution_count": 2,
   "metadata": {},
   "outputs": [
    {
     "ename": "SyntaxError",
     "evalue": "unexpected EOF while parsing (<ipython-input-2-41e74d22f40f>, line 1)",
     "output_type": "error",
     "traceback": [
      "\u001b[0;36m  File \u001b[0;32m\"<ipython-input-2-41e74d22f40f>\"\u001b[0;36m, line \u001b[0;32m1\u001b[0m\n\u001b[0;31m    len(x_train\u001b[0m\n\u001b[0m               ^\u001b[0m\n\u001b[0;31mSyntaxError\u001b[0m\u001b[0;31m:\u001b[0m unexpected EOF while parsing\n"
     ]
    }
   ],
   "source": [
    "\n"
   ]
  },
  {
   "cell_type": "code",
   "execution_count": null,
   "metadata": {},
   "outputs": [],
   "source": []
  }
 ],
 "metadata": {
  "kernelspec": {
   "display_name": "Python 3",
   "language": "python",
   "name": "python3"
  },
  "language_info": {
   "codemirror_mode": {
    "name": "ipython",
    "version": 3
   },
   "file_extension": ".py",
   "mimetype": "text/x-python",
   "name": "python",
   "nbconvert_exporter": "python",
   "pygments_lexer": "ipython3",
   "version": "3.7.7"
  }
 },
 "nbformat": 4,
 "nbformat_minor": 4
}
